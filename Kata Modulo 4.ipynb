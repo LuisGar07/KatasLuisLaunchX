{
 "cells": [
  {
   "cell_type": "markdown",
   "metadata": {},
   "source": [
    "EJERCICIO 1 - TRANSFORMAR CADENAS\n"
   ]
  },
  {
   "cell_type": "code",
   "execution_count": 4,
   "metadata": {},
   "outputs": [],
   "source": [
    "text = \"\"\"Interesting facts about the Moon. The Moon is Earth's only satellite. There are several interesting facts about the Moon and how it affects life here on Earth. \n",
    "On average, the Moon moves 4cm away from the Earth every year. This yearly drift is not significant enough to cause immediate effects on Earth. The highest daylight temperature of the Moon is 127 C.\"\"\"\n"
   ]
  },
  {
   "cell_type": "code",
   "execution_count": 12,
   "metadata": {},
   "outputs": [
    {
     "name": "stdout",
     "output_type": "stream",
     "text": [
      " \n",
      "On average, the Moon moves 4cm away from the Earth every year\n",
      " The highest daylight temperature of the Moon is 127 C\n"
     ]
    }
   ],
   "source": [
    "#Dividir el Texto\n",
    "texto_div = text.split('.')\n",
    "\n",
    "#Seleccionamos las palabras claves en un array\n",
    "palabras = [\"average\", \"temperature\", \"distance\"]\n",
    "\n",
    "for fragmento in texto_div:  #Declaramos la variable 'fragmento' y vamos a recorrer todo el texto dividido, ejecutando el sig. fragmento de codigo\n",
    "  for clave in palabras:       #Para cada palabra clave en el array 'palabras' se ejecuta el siguiente codigo\n",
    "    if clave in fragmento:   #Si la palabra clave se encuentra en el texto dividido, vamos a imprimir dicho fragmento\n",
    "         print(fragmento)\n",
    "         break"
   ]
  },
  {
   "cell_type": "code",
   "execution_count": 15,
   "metadata": {},
   "outputs": [
    {
     "name": "stdout",
     "output_type": "stream",
     "text": [
      " \n",
      "On average, the Moon moves 4cm away from the Earth every year\n",
      " The highest daylight temperature of the Moon is 127 Celsius\n"
     ]
    }
   ],
   "source": [
    "#Cambiamos un fragmento de texto por otro\n",
    "for fragmento in texto_div:  #Realizamos lo mismo que el codigo anterior, recorremos todos los framentos del texto\n",
    "    for clave in palabras:   #Comprobamos las palabras clave\n",
    "        if clave in fragmento:  #Si la una de las palabras claves se encuentra en los framentos, vamos a remplazar la 'C' por 'Celsis'\n",
    "            print(fragmento.replace(' C', ' Celsius'))\n",
    "            break"
   ]
  },
  {
   "cell_type": "markdown",
   "metadata": {},
   "source": [
    "EJERCICIO 2 - FORMATEANDO CADENAS"
   ]
  },
  {
   "cell_type": "code",
   "execution_count": 49,
   "metadata": {},
   "outputs": [],
   "source": [
    "planeta = 'Marte '\n",
    "gravedad  = 0.00143\n",
    "nombre = 'Ganímedes'"
   ]
  },
  {
   "cell_type": "code",
   "execution_count": 50,
   "metadata": {},
   "outputs": [],
   "source": [
    "title = f'datos de la gravedad sobre el planeta {nombre}'"
   ]
  },
  {
   "cell_type": "code",
   "execution_count": 69,
   "metadata": {},
   "outputs": [],
   "source": [
    "\n",
    "datosPlaneta = f\"\"\"{'-----------------------------'} \n",
    "Planeta: {planeta} \n",
    "Gravedad de {nombre}: {gravedad * 1000} m/s\n",
    "\"\"\""
   ]
  },
  {
   "cell_type": "code",
   "execution_count": 71,
   "metadata": {},
   "outputs": [
    {
     "name": "stdout",
     "output_type": "stream",
     "text": [
      "----------------------------- \n",
      "Planeta: Marte  \n",
      "Gravedad de Ganímedes: 1.4300000000000002 m/s\n",
      "\n"
     ]
    }
   ],
   "source": [
    "#Este fragmento te codigo lo tuve que ver de la solucion, no se me ocurria como se debia implementar\n",
    "baseInfo = f\"\"\"{title.title()} \n",
    "{datosPlaneta} \n",
    "\"\"\" \n",
    "print(datosPlaneta)"
   ]
  },
  {
   "cell_type": "code",
   "execution_count": 54,
   "metadata": {},
   "outputs": [],
   "source": [
    "#Datos Nuevos\n",
    "planeta = 'Marte '\n",
    "gravedad  = 0.00143\n",
    "nombre = 'Ganímedes'"
   ]
  },
  {
   "cell_type": "code",
   "execution_count": 55,
   "metadata": {},
   "outputs": [
    {
     "name": "stdout",
     "output_type": "stream",
     "text": [
      "-------------------------------------------------------------------------------- \n",
      "Nombre del planeta: Marte  \n",
      "Gravedad en Ganímedes: 1.4300000000000002 m/s2 \n",
      "\n"
     ]
    }
   ],
   "source": [
    "#Impresion de plantilla\n",
    "print(datosPlaneta)"
   ]
  }
 ],
 "metadata": {
  "interpreter": {
   "hash": "008fa370cf3a113d87c5ccbdb75543f98488a21de04f084b3befedf066825e09"
  },
  "kernelspec": {
   "display_name": "Python 3.10.2 64-bit",
   "language": "python",
   "name": "python3"
  },
  "language_info": {
   "codemirror_mode": {
    "name": "ipython",
    "version": 3
   },
   "file_extension": ".py",
   "mimetype": "text/x-python",
   "name": "python",
   "nbconvert_exporter": "python",
   "pygments_lexer": "ipython3",
   "version": "3.10.2"
  },
  "orig_nbformat": 4
 },
 "nbformat": 4,
 "nbformat_minor": 2
}
